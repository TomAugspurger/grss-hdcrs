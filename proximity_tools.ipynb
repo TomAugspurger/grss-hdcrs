{
 "cells": [
  {
   "cell_type": "markdown",
   "metadata": {
    "tags": []
   },
   "source": [
    "## Proximity tools\n",
    "\n",
    "In this tutorial, you'll learn how to use [Xarray-Spatial's proximity toolset](https://xarray-spatial.org/user_guide/proximity.html) to measure distances between points. You'll focus on an area of the Amazon rainforest around Oriximiná, Brazil, using data from the [European Commission Joint Research Centre's Global Surface Water Dataset](https://planetarycomputer.microsoft.com/dataset/jrc-gsw).\n",
    "\n",
    "Xarray-Spatial offers three proximity tools:\n",
    "* [Proximity Distance](https://xarray-spatial.org/reference/_autosummary/xrspatial.proximity.proximity.html): for each point in the input raster, this tool calculates the distance to the nearest of a set of target points or source points.\n",
    "* [Proximity Allocation](https://xarray-spatial.org/reference/_autosummary/xrspatial.proximity.allocation.html): for each cell in the input raster, this tool identifies the nearest source or target point (the 'allocation' point).\n",
    "* [Proximity Direction](https://xarray-spatial.org/reference/_autosummary/xrspatial.proximity.direction.html): for each cell in the input raster, this tool returns the direction to the nearest source point (the 'allocation')."
   ]
  },
  {
   "cell_type": "code",
   "execution_count": null,
   "metadata": {},
   "outputs": [],
   "source": [
    "import pystac_client\n",
    "import rasterio\n",
    "import rasterio.mask\n",
    "import numpy as np\n",
    "import planetary_computer as pc\n",
    "import stackstac\n",
    "\n",
    "import matplotlib.pyplot as plt\n",
    "from matplotlib.colors import Normalize\n",
    "from matplotlib.colors import ListedColormap\n",
    "\n",
    "from xrspatial import proximity, allocation, direction"
   ]
  },
  {
   "cell_type": "markdown",
   "metadata": {},
   "source": [
    "### Prepare and load the data\n",
    "\n",
    "This example uses a small amount of data. Set up a local Dask \"cluster\" on a single machine to process the data in parallel."
   ]
  },
  {
   "cell_type": "code",
   "execution_count": null,
   "metadata": {},
   "outputs": [],
   "source": [
    "from dask.distributed import Client\n",
    "\n",
    "client = Client()\n",
    "print(f\"/proxy/{client.scheduler_info()['services']['dashboard']}/status\")"
   ]
  },
  {
   "cell_type": "markdown",
   "metadata": {},
   "source": [
    "You'll analyze a small area in the Amazon rainforest located around Oriximiná, State of Pará, Brazil. The region of interest contains parts of the Amazon River and smaller rivers such as the Nhamundá River, Trombetas River, and Paru de Oeste River. \n",
    "\n",
    "Use `pystac-client` to find all [STAC Items](https://github.com/radiantearth/stac-spec/blob/master/overview.md#item-overview) covering that area:"
   ]
  },
  {
   "cell_type": "code",
   "execution_count": null,
   "metadata": {},
   "outputs": [],
   "source": [
    "bounds = [-57.151965, -2.530125, -55.710724, -1.179033]\n",
    "\n",
    "catalog = pystac_client.Client.open(\n",
    "    \"https://planetarycomputer.microsoft.com/api/stac/v1\"\n",
    ")\n",
    "jrc = catalog.search(collections=[\"jrc-gsw\"], bbox=bounds)\n",
    "\n",
    "items = list(jrc.get_items())\n",
    "print(f\"Returned {len(items)} Items\")"
   ]
  },
  {
   "cell_type": "code",
   "execution_count": null,
   "metadata": {},
   "outputs": [],
   "source": [
    "item = items[0]\n",
    "item"
   ]
  },
  {
   "cell_type": "markdown",
   "metadata": {},
   "source": [
    "This notebook uses these three assets of the dataset: Maximum Water Extent, Water Seasonality, and Water Transitions. Use [stackstac.stack](https://stackstac.readthedocs.io/en/latest/api/main/stackstac.stack.html) to load the item data, select the desired assets, and crop the area to our bounds of interest. See the [jrc-gsw example notebook](../datasets/jrc-gsw/jrc-gsw-example.ipynb) to learn more about how to use this dataset."
   ]
  },
  {
   "cell_type": "code",
   "execution_count": null,
   "metadata": {},
   "outputs": [],
   "source": [
    "assets_of_interest = [\"extent\", \"seasonality\", \"transitions\"]\n",
    "\n",
    "data = (\n",
    "    stackstac.stack(\n",
    "        [pc.sign(item).to_dict()],\n",
    "        assets=assets_of_interest,\n",
    "        bounds=bounds,\n",
    "        chunksize=3000,\n",
    "    )\n",
    "    .isel(time=0)\n",
    "    .persist()\n",
    ")\n",
    "\n",
    "data"
   ]
  },
  {
   "cell_type": "markdown",
   "metadata": {},
   "source": [
    "The JRC Global Surface Water COGs include colormaps for each of the assets. Use the [open](https://rasterio.readthedocs.io/en/latest/api/rasterio.html#rasterio.open) function of [rasterio](https://rasterio.readthedocs.io/en/latest/index.html) to read the GeoTIFFs' metadata and select the three colormaps for the assets you are working with. Before you can use those colormaps, you need to convert them into matplotlib [ListedColormap](https://matplotlib.org/stable/api/_as_gen/matplotlib.colors.ListedColormap.html) objects:"
   ]
  },
  {
   "cell_type": "code",
   "execution_count": null,
   "metadata": {},
   "outputs": [],
   "source": [
    "cmaps = {}\n",
    "\n",
    "for asset_key in assets_of_interest:\n",
    "    asset = item.assets[asset_key]\n",
    "    with rasterio.open(pc.sign(item.assets[asset_key].href)) as src:\n",
    "        colormap_def = src.colormap(1)  # get metadata colormap for band 1\n",
    "        colormap = [\n",
    "            np.array(colormap_def[i]) / 256 for i in range(256)\n",
    "        ]  # transform to matplotlib color format\n",
    "    cmaps[asset_key] = ListedColormap(colormap)"
   ]
  },
  {
   "cell_type": "markdown",
   "metadata": {},
   "source": [
    "Next, visualize the data using the corresponding colormap for each of the three assets:"
   ]
  },
  {
   "cell_type": "code",
   "execution_count": null,
   "metadata": {},
   "outputs": [],
   "source": [
    "norm = Normalize(0, 255)\n",
    "\n",
    "fig, ax = plt.subplots(nrows=1, ncols=3, figsize=(20, 15))\n",
    "\n",
    "for i, asset_key in enumerate(assets_of_interest):\n",
    "    ax[i].imshow(\n",
    "        data.sel(band=asset_key),\n",
    "        norm=norm,\n",
    "        cmap=cmaps[asset_key],\n",
    "    )\n",
    "    ax[i].set_title(asset_key, fontdict={\"fontsize\": 15})\n",
    "    ax[i].set_axis_off()"
   ]
  },
  {
   "cell_type": "markdown",
   "metadata": {},
   "source": [
    "### Proximity Distance\n",
    "\n",
    "[xrspatial.proximity.proximity](https://xarray-spatial.org/reference/_autosummary/xrspatial.proximity.proximity.html) takes a `values` raster and, for each point in the raster, computes the distance to the closest *target*. By default, all non-zero values in the raster are used as `target` pixels, but you can provide targest manually instead.\n",
    "\n",
    "The output raster is the same shape as the input, and the values distance to the closest target point (using the `distance_metric`, euclidean by default).\n",
    "\n",
    "By default, you'll use Euclidean as the `distance_metric`, the `target_values` parameter is all non-zero pixels in the values raster, and `max_distance` is set to infinity."
   ]
  },
  {
   "cell_type": "code",
   "execution_count": null,
   "metadata": {},
   "outputs": [],
   "source": [
    "extent_data = data.sel(band=\"extent\").compute()\n",
    "\n",
    "extent_proximity_default = proximity(extent_data)\n",
    "extent_proximity_default.name = \"\"\"\n",
    "    Water Extent proximity distance\n",
    "    (Euclidean max_distance=infinity)\n",
    "\"\"\"\n",
    "\n",
    "extent_proximity_default"
   ]
  },
  {
   "cell_type": "markdown",
   "metadata": {},
   "source": [
    "You might wish to set values that are too far from a target value to `NaN`. You can do this by specifying the `max_distance` parameter. We'll set it to the distance between two arbitrary points (using the default [euclidean distance](https://xarray-spatial.org/reference/_autosummary/xrspatial.proximity.euclidean_distance.html))."
   ]
  },
  {
   "cell_type": "code",
   "execution_count": null,
   "metadata": {},
   "outputs": [],
   "source": [
    "from xrspatial import euclidean_distance\n",
    "\n",
    "p1 = (-57.151965, -2.530125)\n",
    "p2 = (-57.120526, -2.540378)\n",
    "\n",
    "d_euclidean = euclidean_distance(p1[0], p2[0], p1[1], p2[1])\n",
    "d_euclidean"
   ]
  },
  {
   "cell_type": "markdown",
   "metadata": {},
   "source": [
    "Now we'll specify `max_distance=d_euclidean` to compute the same result, but with all values further than `d_euclidean` from a target set to `NaN`."
   ]
  },
  {
   "cell_type": "code",
   "execution_count": null,
   "metadata": {},
   "outputs": [],
   "source": [
    "extent_proximity = proximity(extent_data, max_distance=d_euclidean)\n",
    "\n",
    "extent_proximity.name = f\"\"\"\n",
    "    Water Extent proximity distance\n",
    "    (Euclidean max_distance={d_euclidean:.5f})\n",
    "\"\"\""
   ]
  },
  {
   "cell_type": "markdown",
   "metadata": {},
   "source": [
    "Let's visualize the two results."
   ]
  },
  {
   "cell_type": "code",
   "execution_count": null,
   "metadata": {},
   "outputs": [],
   "source": [
    "fig, (ax1, ax2) = plt.subplots(ncols=2, figsize=(15, 7.5))\n",
    "\n",
    "extent_proximity_default.plot.imshow(cmap=\"Greens_r\", add_colorbar=False, ax=ax1)\n",
    "extent_data.plot.imshow(\n",
    "    norm=norm, cmap=cmaps[\"extent\"], add_colorbar=False, alpha=0.5, ax=ax1\n",
    ")\n",
    "ax1.set_axis_off()\n",
    "ax1.set(title=extent_proximity_default.name)\n",
    "\n",
    "extent_proximity.plot.imshow(cmap=\"Greens_r\", add_colorbar=False, ax=ax2)\n",
    "extent_data.plot.imshow(\n",
    "    norm=norm, cmap=cmaps[\"extent\"], add_colorbar=False, alpha=0.5, ax=ax2\n",
    ")\n",
    "ax2.set_axis_off()\n",
    "ax2.set(title=extent_proximity.name);"
   ]
  },
  {
   "cell_type": "markdown",
   "metadata": {},
   "source": [
    "In this visualization, dark green points are points that are closest to the surface water, while lighter points are further away. Blank points (all white) are further than `max_distance` to the closest point."
   ]
  },
  {
   "cell_type": "markdown",
   "metadata": {},
   "source": [
    "### Proximity Allocation\n",
    "\n",
    "Similar to [xrspatial.proximity.proximity](https://xarray-spatial.org/reference/_autosummary/xrspatial.proximity.proximity.html), [xrspatial.proximity.allocation](https://xarray-spatial.org/reference/_autosummary/xrspatial.proximity.allocation.html) takes an aggregate as its input and finds the smallest distance from each cell to any one of the target points or source points. However, instead of returning the distance, [xrspatial.proximity.allocation](https://xarray-spatial.org/reference/_autosummary/xrspatial.proximity.allocation.html) returns the value of the target point for each pixel.\n",
    "\n",
    "We'll compute the allocation, using `great_circle_distance` as our distance metric."
   ]
  },
  {
   "cell_type": "code",
   "execution_count": null,
   "metadata": {},
   "outputs": [],
   "source": [
    "from xrspatial import great_circle_distance\n",
    "\n",
    "d_great_circle = great_circle_distance(p1[0], p2[0], p1[1], p2[1])\n",
    "d_great_circle"
   ]
  },
  {
   "cell_type": "markdown",
   "metadata": {},
   "source": [
    "Compute the allocation proximity of the Water Transitions asset data:"
   ]
  },
  {
   "cell_type": "code",
   "execution_count": null,
   "metadata": {},
   "outputs": [],
   "source": [
    "transitions_data = data.sel(band=\"transitions\").compute()\n",
    "\n",
    "transitions_allocation = allocation(\n",
    "    transitions_data, distance_metric=\"GREAT_CIRCLE\", max_distance=d_great_circle\n",
    ")\n",
    "transitions_allocation.name = f\"\"\"\n",
    "    Water Transitions proximity allocation\n",
    "    (Great Circle max_distance={d_great_circle:.2f})\n",
    "\"\"\""
   ]
  },
  {
   "cell_type": "markdown",
   "metadata": {},
   "source": [
    "Visualize the result:"
   ]
  },
  {
   "cell_type": "code",
   "execution_count": null,
   "metadata": {},
   "outputs": [],
   "source": [
    "fig, ax = plt.subplots(figsize=(10, 8))\n",
    "\n",
    "ax.set_axis_off()\n",
    "ax.imshow(transitions_allocation, norm=norm, cmap=cmaps[\"transitions\"])\n",
    "ax.imshow(transitions_data, norm=norm, cmap=cmaps[\"transitions\"], alpha=0.5)\n",
    "ax.set(title=transitions_allocation.name);"
   ]
  },
  {
   "cell_type": "markdown",
   "metadata": {},
   "source": [
    "Notice the blocks in the visualization: each of the differently shaded blocks contains all of the points that share the target point in the center as their nearest target point."
   ]
  },
  {
   "cell_type": "markdown",
   "metadata": {},
   "source": [
    "### Next steps: analyze more datasets\n",
    "\n",
    "Try using Xarray-Spatial's [Proximity Distance](https://xarray-spatial.org/user_guide/proximity.html#Proximity-Distance), [Proximity Allocation](https://xarray-spatial.org/user_guide/proximity.html#Proximity-Allocation), and [Proximity Direction](https://xarray-spatial.org/user_guide/proximity.html#Proximity-Direction) functions with different areas of interest and different assets of the [European Commission Joint Research Centre's Global Surface Water Dataset](https://planetarycomputer.microsoft.com/dataset/jrc-gsw). Or try using these tools with the [USGS GAP/LANDFIRE National Terrestrial Ecosystems dataset](https://planetarycomputer.microsoft.com/dataset/gap) to analyze proximity distances between different kinds of landcovers."
   ]
  }
 ],
 "metadata": {
  "kernelspec": {
   "display_name": "Python 3 (ipykernel)",
   "language": "python",
   "name": "python3"
  },
  "language_info": {
   "codemirror_mode": {
    "name": "ipython",
    "version": 3
   },
   "file_extension": ".py",
   "mimetype": "text/x-python",
   "name": "python",
   "nbconvert_exporter": "python",
   "pygments_lexer": "ipython3",
   "version": "3.8.13"
  },
  "widgets": {
   "application/vnd.jupyter.widget-state+json": {
    "state": {
     "2c4652b6da844062ace9dcd9c7133446": {
      "model_module": "@jupyter-widgets/controls",
      "model_module_version": "1.5.0",
      "model_name": "VBoxModel",
      "state": {
       "layout": "IPY_MODEL_8fe7a249c47c48e2b9a384844b5fc5eb"
      }
     },
     "8fe7a249c47c48e2b9a384844b5fc5eb": {
      "model_module": "@jupyter-widgets/base",
      "model_module_version": "1.2.0",
      "model_name": "LayoutModel",
      "state": {}
     }
    },
    "version_major": 2,
    "version_minor": 0
   }
  }
 },
 "nbformat": 4,
 "nbformat_minor": 4
}
