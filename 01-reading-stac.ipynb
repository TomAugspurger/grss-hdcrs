{
 "cells": [
  {
   "cell_type": "markdown",
   "id": "23374c2d-0b01-496c-8171-3abf13dc77d4",
   "metadata": {},
   "source": [
    "## Reading Data from the STAC API\n",
    "\n",
    "The Planetary Computer catalogs the datasets we host using the [STAC](http://stacspec.org/) (SpatioTemporal Asset Catalog) specification. We provide a [STAC API](https://github.com/radiantearth/stac-api-spec) endpoint that can be used to search our datasets by space, time, and more. This quickstart will show you how to search for data using our STAC API and open-source Python libraries. For more on how to use our STAC API from R, see [Reading data from the STAC API with R](https://planetarycomputer.microsoft.com/docs/quickstarts/reading-stac-r/).\n",
    "\n",
    "To get started you'll need the [pystac-client](https://github.com/stac-utils/pystac-client) library installed. You can install it via pip:\n",
    "\n",
    "```\n",
    "> pip install pystac-client\n",
    "```\n",
    "\n",
    "First we'll use pystac-client to open up our STAC API:"
   ]
  },
  {
   "cell_type": "code",
   "execution_count": null,
   "id": "fda5e533-84b8-4051-9198-2df74338ae71",
   "metadata": {},
   "outputs": [],
   "source": [
    "from pystac_client import Client\n",
    "\n",
    "catalog = Client.open(\"https://planetarycomputer.microsoft.com/api/stac/v1\")"
   ]
  },
  {
   "cell_type": "markdown",
   "id": "b1f7ef57-45db-49ef-9065-4515157d23fb",
   "metadata": {},
   "source": [
    "### Searching\n",
    "\n",
    "We can use the STAC API to search for assets meeting some criteria. This might include the date and time the asset covers, is spatial extent, or any other property captured in the STAC item's metadata.\n",
    "\n",
    "In this example we'll search for imagery from [Landsat Collection 2 Level-2](https://planetarycomputer.microsoft.com/dataset/landsat-c2-l2) area around Microsoft's main campus in December of 2020."
   ]
  },
  {
   "cell_type": "code",
   "execution_count": null,
   "id": "2ec73f94-3989-49cf-920a-fde66c7946b8",
   "metadata": {},
   "outputs": [],
   "source": [
    "time_range = \"2020-12-01/2020-12-31\"\n",
    "bbox = [-122.2751, 47.5469, -121.9613, 47.7458]\n",
    "\n",
    "search = catalog.search(collections=[\"landsat-c2-l2\"], bbox=bbox, datetime=time_range)\n",
    "items = search.get_all_items()\n",
    "len(items)"
   ]
  },
  {
   "cell_type": "markdown",
   "id": "84143827-ff63-4946-a995-ebc101f18d52",
   "metadata": {},
   "source": [
    "In that example our spatial query used a bounding box with a `bbox`. Alternatively, you can pass a GeoJSON object as `intersects`\n",
    "\n",
    "```python\n",
    "area_of_interest = {\n",
    "    \"type\": \"Polygon\",\n",
    "    \"coordinates\": [\n",
    "        [\n",
    "            [-122.2751, 47.5469],\n",
    "            [-121.9613, 47.9613],\n",
    "            [-121.9613, 47.9613],\n",
    "            [-122.2751, 47.9613],\n",
    "            [-122.2751, 47.5469],\n",
    "        ]\n",
    "    ],\n",
    "}\n",
    "\n",
    "time_range = \"2020-12-01/2020-12-31\"\n",
    "\n",
    "search = catalog.search(\n",
    "    collections=[\"landsat-c2-l2\"], intersects=area_of_interest, datetime=time_range\n",
    ")\n",
    "```"
   ]
  },
  {
   "cell_type": "markdown",
   "id": "aedaf9f7-1ba2-472d-85e1-5838e7df9ffb",
   "metadata": {},
   "source": [
    "`items` is a [`pystac.ItemCollection`](https://pystac.readthedocs.io/en/stable/api/item_collection.html#pystac-item-collection). We can see that 4 items matched our search criteria."
   ]
  },
  {
   "cell_type": "code",
   "execution_count": null,
   "id": "c62e1ca1-0be3-45a6-bb8a-5fd048a5478c",
   "metadata": {},
   "outputs": [],
   "source": [
    "len(items)"
   ]
  },
  {
   "cell_type": "markdown",
   "id": "6b36c181-a163-4e40-9ad0-3accacc82010",
   "metadata": {},
   "source": [
    "Each [`pystac.Item`](https://pystac.readthedocs.io/en/stable/api/pystac.html#pystac.Item) in this `ItemCollection` includes all the metadata for that scene. [STAC Items](https://github.com/radiantearth/stac-spec/blob/master/item-spec/item-spec.md) are GeoJSON features, and so can be loaded by libraries like [geopandas](http://geopandas.readthedocs.io/)."
   ]
  },
  {
   "cell_type": "code",
   "execution_count": null,
   "id": "b95c28ed-0ab1-4d4c-aa0f-a0382f694238",
   "metadata": {},
   "outputs": [],
   "source": [
    "import geopandas\n",
    "\n",
    "df = geopandas.GeoDataFrame.from_features(items.to_dict(), crs=\"epsg:4326\")\n",
    "df"
   ]
  },
  {
   "cell_type": "markdown",
   "id": "e88bc7eb-fd2f-48b1-a3d7-dc96d8b7635c",
   "metadata": {},
   "source": [
    "Some collections implement the `eo` extension, which we can use to sort the items by cloudiness. We'll grab an item with low cloudiness:"
   ]
  },
  {
   "cell_type": "code",
   "execution_count": null,
   "id": "c60accc9-4126-4609-8a65-406719b5485b",
   "metadata": {},
   "outputs": [],
   "source": [
    "selected_item = min(items, key=lambda item: item.properties[\"eo:cloud_cover\"])\n",
    "selected_item"
   ]
  },
  {
   "cell_type": "markdown",
   "id": "9be696c5-c9b9-4dcb-a876-a645d384fa83",
   "metadata": {},
   "source": [
    "Each STAC item has one or more [Assets](https://github.com/radiantearth/stac-spec/blob/master/item-spec/item-spec.md#asset-object), which include links to the actual files."
   ]
  },
  {
   "cell_type": "code",
   "execution_count": null,
   "id": "f507b45d-5985-4f10-9850-c1b3947c9908",
   "metadata": {},
   "outputs": [],
   "source": [
    "import rich.table\n",
    "\n",
    "table = rich.table.Table(\"Asset Key\", \"Descripiption\")\n",
    "for asset_key, asset in selected_item.assets.items():\n",
    "    table.add_row(asset_key, asset.title)\n",
    "\n",
    "table"
   ]
  },
  {
   "cell_type": "markdown",
   "id": "fe4053e4-6c1e-46b7-947d-79811a2877e4",
   "metadata": {},
   "source": [
    "Here, we'll inspect the `rendered_preview` asset."
   ]
  },
  {
   "cell_type": "code",
   "execution_count": null,
   "id": "f175aa10-8f97-4ea3-8fda-c6fe4469baea",
   "metadata": {},
   "outputs": [],
   "source": [
    "selected_item.assets[\"rendered_preview\"].to_dict()"
   ]
  },
  {
   "cell_type": "code",
   "execution_count": null,
   "id": "50535606-4891-40d4-9e52-7d0056583681",
   "metadata": {},
   "outputs": [],
   "source": [
    "from IPython.display import Image\n",
    "\n",
    "Image(url=selected_item.assets[\"rendered_preview\"].href, width=1000)"
   ]
  },
  {
   "cell_type": "markdown",
   "id": "5abf7884-00c5-49fd-b27f-a57a23c00af5",
   "metadata": {},
   "source": [
    "That `rendered_preview` asset is generated dynamically from the raw data using the Planetary Computer's [data API](http://planetarycomputer.microsoft.com/api/data/v1/). We can access the raw data, stored as Cloud Optimzied GeoTIFFs in Azure Blob Storage, using one of the other assets. That said, we do need to do one more thing before accessing the data. If we simply made a request to the file in blob storage we'd get a 404:"
   ]
  },
  {
   "cell_type": "code",
   "execution_count": null,
   "id": "aefcb71d-31ba-4211-b7a5-7966c13304ef",
   "metadata": {},
   "outputs": [],
   "source": [
    "import requests\n",
    "\n",
    "url = selected_item.assets[\"blue\"].href\n",
    "print(\"Accessing\", url)\n",
    "response = requests.get(url)\n",
    "response"
   ]
  },
  {
   "cell_type": "markdown",
   "id": "65686af5-414e-4482-af27-fb680b179930",
   "metadata": {},
   "source": [
    "That's because the Plantary Computer uses Azure Blob Storage [SAS Tokens](https://docs.microsoft.com/en-us/azure/storage/common/storage-sas-overview#how-a-shared-access-signature-works) to enable access to our data, which allows us to provide the data for free to anyone, anywhere while maintaining some control over the amount of egress for datasets.\n",
    "\n",
    "To get a token for access, you can use the Planetary Computer's [Data Authentication API](../reference/sas.md). You can access that anonymously, or you can provide an API Key for higher rate limits and longer-lived tokens.\n",
    "\n",
    "You can also use the [planetary-computer](https://github.com/microsoft/planetary-computer-sdk-for-python) package to generate tokens and sign asset HREFs for access. You can install via pip with\n",
    "\n",
    "```\n",
    "> pip install planetary-computer\n",
    "```"
   ]
  },
  {
   "cell_type": "code",
   "execution_count": null,
   "id": "08f7fdcb-8d15-45a7-be8d-2e4d45cf96b1",
   "metadata": {},
   "outputs": [],
   "source": [
    "import planetary_computer\n",
    "\n",
    "# PC_SDK_SUBSCRIPTION_KEY\n",
    "signed_href = planetary_computer.sign(selected_item).assets[\"blue\"].href"
   ]
  },
  {
   "cell_type": "markdown",
   "id": "29feea6d-400d-4573-82ba-835918adb701",
   "metadata": {},
   "source": [
    "We can load up that single COG using libraries like [rioxarray](https://corteva.github.io/rioxarray/html/rioxarray.html) or [rasterio](https://rasterio.readthedocs.io/en/latest/)"
   ]
  },
  {
   "cell_type": "code",
   "execution_count": null,
   "id": "58481f78-40b5-486d-bf36-ab333206bdb4",
   "metadata": {},
   "outputs": [],
   "source": [
    "# import xarray as xr\n",
    "import rioxarray\n",
    "\n",
    "ds = rioxarray.open_rasterio(signed_href, overview_level=4).squeeze()\n",
    "img = ds.plot(cmap=\"Blues\", add_colorbar=False)\n",
    "img.axes.set_axis_off();"
   ]
  },
  {
   "cell_type": "markdown",
   "id": "d3c08641-fbb6-425f-a3ca-975ca1d425a4",
   "metadata": {},
   "source": [
    "If you wish to work with multiple STAC items as a datacube, you can use libraries like [stackstac](https://stackstac.readthedocs.io/) or [odc-stac](https://odc-stac.readthedocs.io/en/latest/index.html)."
   ]
  },
  {
   "cell_type": "code",
   "execution_count": null,
   "id": "d4a749a5-4a05-405b-8c81-9c10317c9e33",
   "metadata": {},
   "outputs": [],
   "source": [
    "import stackstac\n",
    "\n",
    "ds = stackstac.stack(planetary_computer.sign(items))\n",
    "ds"
   ]
  },
  {
   "cell_type": "markdown",
   "id": "5905c48c-6905-488a-acfd-c8b3fbc9ffc7",
   "metadata": {},
   "source": [
    "As per the STAC specification, queries return an item that touches your area of interest. You can crop the items down to just the area you care about using the `bounds` or `bounds_latlon` keywords."
   ]
  },
  {
   "cell_type": "code",
   "execution_count": null,
   "id": "02d63402-ba42-417d-b5e9-a45a95e7f00d",
   "metadata": {},
   "outputs": [],
   "source": [
    "stackstac.stack(planetary_computer.sign(items), bounds_latlon=bbox)"
   ]
  },
  {
   "cell_type": "markdown",
   "id": "f1667041-47fc-421a-b9e5-93d7b70cd168",
   "metadata": {},
   "source": [
    "We'll talk much more about xarray later on. For now, just note that it enables things like easily indexing along dimensions by name:"
   ]
  },
  {
   "cell_type": "code",
   "execution_count": null,
   "id": "7f4d53a6-1330-4ded-b946-cbf2153a71a1",
   "metadata": {},
   "outputs": [],
   "source": [
    "ds.sel(band=\"red\")"
   ]
  },
  {
   "cell_type": "markdown",
   "id": "5d946974-80dc-487f-9564-5cf8b06a1f60",
   "metadata": {},
   "source": [
    "Or by position"
   ]
  },
  {
   "cell_type": "code",
   "execution_count": null,
   "id": "f195e252-cc16-4904-9535-7e29d9ae7004",
   "metadata": {},
   "outputs": [],
   "source": [
    "ds.isel(time=0)"
   ]
  },
  {
   "cell_type": "markdown",
   "id": "e672d036-d3e1-4bfa-86dd-a28b9070e702",
   "metadata": {},
   "source": [
    "## *Exercise*: Compute NDVI\n",
    "\n",
    "Compute NDVI for a bounding-box over Reykjavík.\n",
    "\n",
    "Use the provided bounding box to query for Landsat Collection 2 Level-2 scenes. Stack those into a datacube and compute NDVI using the formula $\\text{NDVI} = \\frac{\\text{NIR} - \\text{RED}}{\\text{NIR} + \\text{RED}}$."
   ]
  },
  {
   "cell_type": "code",
   "execution_count": null,
   "id": "aa95b5c0-d0f6-45e2-8963-083be9fa93f2",
   "metadata": {},
   "outputs": [],
   "source": [
    "bbox = [-22.0176, 64.0435, -21.67, 64.1705]\n",
    "time_range = \"2021-01-01/2021-12-31\"\n",
    "search = catalog.search(\n",
    "    collections=...,\n",
    "    bbox=...,\n",
    "    datetime=...\n",
    ")\n",
    "items = search.get_all_items()\n",
    "print(len(items))"
   ]
  },
  {
   "cell_type": "code",
   "execution_count": null,
   "id": "d37eb44f-eb08-4f51-96b9-ce7f78119421",
   "metadata": {},
   "outputs": [],
   "source": [
    "ds = stackstac.stack(\n",
    "    planetary_computer.sign(items),\n",
    "    assets=...,\n",
    "    ...\n",
    ")"
   ]
  },
  {
   "cell_type": "code",
   "execution_count": null,
   "id": "3dcd4af5-bbaa-4bc5-91f1-547eddc2841e",
   "metadata": {},
   "outputs": [],
   "source": [
    "red = ds.sel(...)\n",
    "nir = ds.sel(...)\n",
    "\n",
    "ndvi = ..."
   ]
  },
  {
   "cell_type": "code",
   "execution_count": null,
   "id": "bba57933-c76f-4b8a-abbe-60444f65f59f",
   "metadata": {},
   "outputs": [],
   "source": [
    "img = ndvi.isel(...).plot(size=12)\n",
    "img.axes.set_axis_off()"
   ]
  },
  {
   "cell_type": "markdown",
   "id": "f7d92db7-f268-4627-85fe-214a5c15a88f",
   "metadata": {},
   "source": [
    "The next cell has a suggested solution. Click the three dots to expand it."
   ]
  },
  {
   "cell_type": "code",
   "execution_count": null,
   "id": "6e9b0ec2-dc0c-4502-a3d3-582f5125cf49",
   "metadata": {
    "jupyter": {
     "source_hidden": true
    },
    "tags": []
   },
   "outputs": [],
   "source": [
    "bbox = [-22.0176, 64.0435, -21.67, 64.1705]\n",
    "time_range = \"2021-01-01/2021-12-31\"\n",
    "\n",
    "# Search for items from Landsat Collection 2 Level 2 matching our conditions\n",
    "search = catalog.search(\n",
    "    collections=[\"landsat-c2-l2\"],\n",
    "    bbox=bbox,\n",
    "    datetime=time_range,\n",
    ")\n",
    "items = search.get_all_items()\n",
    "print(len(items))\n",
    "\n",
    "# Form a datacube from the (signed) items, selecting just the\n",
    "# red and near-infrared bands over our area\n",
    "ds = stackstac.stack(\n",
    "    planetary_computer.sign(items),\n",
    "    assets=[\"red\", \"nir08\"],\n",
    "    bounds_latlon=bbox,\n",
    ")\n",
    "\n",
    "red = ds.sel(band=\"red\")\n",
    "nir = ds.sel(band=\"nir08\")\n",
    "\n",
    "# compute NDVI\n",
    "ndvi = (nir - red) / (nir + red)\n",
    "\n",
    "# Plot it for a single timestep.\n",
    "img = ndvi.isel(time=0).plot(size=12)\n",
    "img.axes.set_axis_off()"
   ]
  },
  {
   "cell_type": "markdown",
   "id": "fc96240e-edb9-4e6d-9c70-645d91813a7f",
   "metadata": {},
   "source": [
    "### Searching on additional properties\n",
    "\n",
    "Previously, we searched for items by space and time. Because the Planetary Computer's STAC API supports the [query](https://github.com/radiantearth/stac-api-spec/blob/master/fragments/query/README.md) parameter, you can search on additional properties on the STAC item.\n",
    "\n",
    "For example, collections like `sentinel-2-l2a` and `landsat-c2-l2` both implement the [`eo` STAC extension](https://github.com/stac-extensions/eo) and include an `eo:cloud_cover` property. Use `query={\"eo:cloud_cover\": {\"lt\": 20}}` to return only items that are less than 20% cloudy."
   ]
  },
  {
   "cell_type": "code",
   "execution_count": null,
   "id": "18c2f286-654a-479a-9ae0-0f819250b575",
   "metadata": {},
   "outputs": [],
   "source": [
    "time_range = \"2020-12-01/2020-12-31\"\n",
    "bbox = [-122.2751, 47.5469, -121.9613, 47.7458]\n",
    "\n",
    "search = catalog.search(\n",
    "    collections=[\"sentinel-2-l2a\"],\n",
    "    bbox=bbox,\n",
    "    datetime=time_range,\n",
    "    query={\"eo:cloud_cover\": {\"lt\": 20}},\n",
    ")\n",
    "items = search.get_all_items()"
   ]
  },
  {
   "cell_type": "markdown",
   "id": "fda18a4d-7421-420b-a918-c45ce43833a9",
   "metadata": {},
   "source": [
    "Other common uses of the `query` parameter is to filter a collection down to items of a specific type, For example, the [GOES-CMI](https://planetarycomputer.microsoft.com/dataset/goes-cmi) collection includes images from various when the satellite is in various modes, which produces images of either the Full Disk of the earth, the continental United States, or a mesoscale. You can use `goes:image-type` to filter down to just the ones you want."
   ]
  },
  {
   "cell_type": "code",
   "execution_count": null,
   "id": "d2db005e-9732-43e2-89c1-3133a6fda2d1",
   "metadata": {},
   "outputs": [],
   "source": [
    "search = catalog.search(\n",
    "    collections=[\"goes-cmi\"],\n",
    "    bbox=[-67.2729, 25.6000, -61.7999, 27.5423],\n",
    "    datetime=[\"2018-09-11T13:00:00Z\", \"2018-09-11T15:40:00Z\"],\n",
    "    query={\"goes:image-type\": {\"eq\": \"MESOSCALE\"}},\n",
    ")"
   ]
  },
  {
   "cell_type": "markdown",
   "id": "10cb5d51-7d01-4d8b-ad14-1c3df6cea258",
   "metadata": {},
   "source": [
    "### Analyzing STAC Metadata\n",
    "\n",
    "STAC items are proper GeoJSON Features, and so can be treated as a kind of data on their own."
   ]
  },
  {
   "cell_type": "code",
   "execution_count": null,
   "id": "0283b780-d1c8-4715-bcc0-0e533110020f",
   "metadata": {
    "tags": []
   },
   "outputs": [],
   "source": [
    "search = catalog.search(\n",
    "    collections=[\"sentinel-2-l2a\"],\n",
    "    bbox=[-124.2751, 45.5469, -110.9613, 47.7458],\n",
    "    datetime=\"2020-12-26/2020-12-31\",\n",
    ")\n",
    "items = search.get_all_items()\n",
    "\n",
    "df = geopandas.GeoDataFrame.from_features(items.to_dict(), crs=\"epsg:4326\")\n",
    "\n",
    "m = df[[\"geometry\", \"datetime\", \"s2:mgrs_tile\", \"eo:cloud_cover\"]].explore(\n",
    "    column=\"eo:cloud_cover\", style_kwds={\"fillOpacity\": 0.1}\n",
    ")"
   ]
  },
  {
   "cell_type": "markdown",
   "id": "debaa186-f987-49c0-a476-98835207fd1f",
   "metadata": {},
   "source": [
    "Or we can plot cloudiness of a region over time."
   ]
  },
  {
   "cell_type": "code",
   "execution_count": null,
   "id": "c27178d2-bc51-4097-a5d7-b2e438f61e9e",
   "metadata": {},
   "outputs": [],
   "source": [
    "import pandas as pd\n",
    "\n",
    "search = catalog.search(\n",
    "    collections=[\"sentinel-2-l2a\"],\n",
    "    bbox=[-124.2751, 45.5469, -123.9613, 45.7458],\n",
    "    datetime=\"2020-01-01/2020-12-31\",\n",
    ")\n",
    "items = search.get_all_items()\n",
    "df = geopandas.GeoDataFrame.from_features(items.to_dict())\n",
    "df[\"datetime\"] = pd.to_datetime(df[\"datetime\"])"
   ]
  },
  {
   "cell_type": "code",
   "execution_count": null,
   "id": "07a7e2be-cf30-4cfe-812d-83ab8b436dfe",
   "metadata": {},
   "outputs": [],
   "source": [
    "ts = df.set_index(\"datetime\").sort_index()[\"eo:cloud_cover\"].rolling(7).mean()\n",
    "ts.plot(title=\"eo:cloud-cover (7-scene rolling average)\");"
   ]
  },
  {
   "cell_type": "markdown",
   "id": "13669344-a6c2-4684-ba78-69b7907e37e1",
   "metadata": {},
   "source": [
    "### Working with STAC Catalogs and Collections\n",
    "\n",
    "Our `catalog` is a [STAC Catalog](https://github.com/radiantearth/stac-spec/blob/master/catalog-spec/catalog-spec.md) that we can crawl or search. The Catalog contains [STAC Collections](https://github.com/radiantearth/stac-spec/blob/master/collection-spec/collection-spec.md) for each dataset we have indexed (which is not the yet the entirity of data hosted by the Planetary Computer).\n",
    "\n",
    "Collections have information about the [STAC Items](https://github.com/radiantearth/stac-spec/blob/master/item-spec/item-spec.md) they contain. For instance, here we look at the [Bands](https://github.com/stac-extensions/eo#band-object) available for [Landsat 8 Collection 2 Level 2](https://planetarycomputer.microsoft.com/dataset/landsat-c2-l2) data:"
   ]
  },
  {
   "cell_type": "code",
   "execution_count": null,
   "id": "8da11d26-3658-4b9e-b790-f84a2aded3e8",
   "metadata": {},
   "outputs": [],
   "source": [
    "import pandas as pd\n",
    "\n",
    "landsat = catalog.get_collection(\"landsat-c2-l2\")\n",
    "\n",
    "pd.DataFrame(landsat.extra_fields[\"summaries\"][\"eo:bands\"])"
   ]
  },
  {
   "cell_type": "markdown",
   "id": "4ae651c0",
   "metadata": {},
   "source": [
    "We can see what [Assets](https://github.com/radiantearth/stac-spec/blob/master/item-spec/item-spec.md#asset-object) are available on our item with:"
   ]
  },
  {
   "cell_type": "code",
   "execution_count": null,
   "id": "4bb2b985-f18d-4161-9331-b4b259814f34",
   "metadata": {},
   "outputs": [],
   "source": [
    "pd.DataFrame.from_dict(landsat.extra_fields[\"item_assets\"], orient=\"index\")[\n",
    "    [\"title\", \"description\", \"gsd\"]\n",
    "]"
   ]
  },
  {
   "cell_type": "markdown",
   "id": "d951c06c-8d3a-47e7-8067-47fe4e9d4ccf",
   "metadata": {},
   "source": [
    "Some collections, like [Daymet](https://planetarycomputer.microsoft.com/dataset/daymet-daily-na) include collection-level assets. You can use the `.assets` property to access those assets."
   ]
  },
  {
   "cell_type": "code",
   "execution_count": null,
   "id": "c2ffb4ee-2714-4bf0-8445-5d90fcc2520c",
   "metadata": {},
   "outputs": [],
   "source": [
    "collection = catalog.get_collection(\"daymet-daily-na\")\n",
    "collection"
   ]
  },
  {
   "cell_type": "markdown",
   "id": "520e7e3f-b189-4ce3-b5f1-11211e474d1b",
   "metadata": {},
   "source": [
    "Just like assets on items, these assets include links to data in Azure Blob Storage."
   ]
  },
  {
   "cell_type": "code",
   "execution_count": null,
   "id": "08b95491-3994-4cc5-8b24-ba113874835f",
   "metadata": {},
   "outputs": [],
   "source": [
    "asset = collection.assets[\"zarr-https\"]\n",
    "asset"
   ]
  },
  {
   "cell_type": "code",
   "execution_count": null,
   "id": "58b7f436-d739-40d8-93bc-631a2295709a",
   "metadata": {},
   "outputs": [],
   "source": [
    "import fsspec\n",
    "import xarray as xr\n",
    "\n",
    "store = fsspec.get_mapper(asset.href)\n",
    "ds = xr.open_zarr(store, **asset.extra_fields[\"xarray:open_kwargs\"])\n",
    "ds"
   ]
  }
 ],
 "metadata": {
  "kernelspec": {
   "display_name": "Python 3 (ipykernel)",
   "language": "python",
   "name": "python3"
  },
  "language_info": {
   "codemirror_mode": {
    "name": "ipython",
    "version": 3
   },
   "file_extension": ".py",
   "mimetype": "text/x-python",
   "name": "python",
   "nbconvert_exporter": "python",
   "pygments_lexer": "ipython3",
   "version": "3.8.13"
  }
 },
 "nbformat": 4,
 "nbformat_minor": 5
}
